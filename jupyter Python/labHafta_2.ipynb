{
 "cells": [
  {
   "cell_type": "code",
   "execution_count": null,
   "metadata": {},
   "outputs": [],
   "source": [
    "#kenar uzunluklarına göre üçgen türünü bulmak\n",
    "dizi=[]\n",
    "for i in range(3):\n",
    "    dizi[i]=int(input(f\"{i+1}. kenarın uzunluğunu giriniz\"))\n",
    "\n",
    "if(dizi[0]==dizi[1]==dizi[2]):\n",
    "    print(\"Es kenar\")\n",
    "elif(dizi[0]==dizi[1] or dizi[0]==dizi[2] or dizi[1]==dizi[2]):\n",
    "    print(\"İkizkenar üçgen\")\n",
    "else:\n",
    "    print(\"Çeşitkenar bir üçgen\")"
   ]
  }
 ],
 "metadata": {
  "kernelspec": {
   "display_name": "Python 3",
   "language": "python",
   "name": "python3"
  },
  "language_info": {
   "codemirror_mode": {
    "name": "ipython",
    "version": 3
   },
   "file_extension": ".py",
   "mimetype": "text/x-python",
   "name": "python",
   "nbconvert_exporter": "python",
   "pygments_lexer": "ipython3",
   "version": "3.11.9"
  }
 },
 "nbformat": 4,
 "nbformat_minor": 2
}
