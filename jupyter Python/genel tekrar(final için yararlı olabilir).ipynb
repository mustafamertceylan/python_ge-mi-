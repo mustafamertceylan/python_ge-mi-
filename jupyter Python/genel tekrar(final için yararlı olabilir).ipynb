{
 "cells": [
  {
   "cell_type": "code",
   "execution_count": null,
   "metadata": {},
   "outputs": [],
   "source": [
    "print(oct(84))\n",
    "print(hex(127))\n",
    "#hazır fonksiyonlardır"
   ]
  },
  {
   "cell_type": "code",
   "execution_count": null,
   "metadata": {},
   "outputs": [],
   "source": [
    "#decimal'den binary çevirme\n",
    "def binCevirici(sayi):\n",
    "    kalan=0\n",
    "    if(sayi<2):\n",
    "        return sayi\n",
    "    else:\n",
    "        return sayi%2 + 10*binCevirici(sayi//2)\n",
    "print(binCevirici(2))"
   ]
  },
  {
   "cell_type": "code",
   "execution_count": 6,
   "metadata": {},
   "outputs": [],
   "source": [
    "#bu hazır fonksiyonları kendizmiz yazmak istersek(recursive halidir)\n",
    "def oct(sayi):\n",
    "    if(sayi<=8):\n",
    "        return sayi\n",
    "    else:\n",
    "        return sayi%8 + 10*oct(sayi//8)"
   ]
  },
  {
   "cell_type": "code",
   "execution_count": 15,
   "metadata": {},
   "outputs": [],
   "source": [
    "def oct(sayi): #iteratif'li haliyle bu şekilde kodlanır\n",
    "    octSayi=0\n",
    "    i=0\n",
    "    while(sayi>0):\n",
    "        octSayi+=sayi%8*10**i\n",
    "        sayi=sayi//8\n",
    "        i+=1\n",
    "    return octSayi"
   ]
  },
  {
   "cell_type": "code",
   "execution_count": null,
   "metadata": {},
   "outputs": [],
   "source": [
    "#fibonacci hesaplama\n",
    "def fibonacci(sayi):\n",
    "    if (sayi<=1):\n",
    "        return sayi\n",
    "    else:\n",
    "        return fibonacci(sayi-1)+fibonacci(sayi-2)\n",
    "    \n",
    "print(fibonacci(7))"
   ]
  },
  {
   "cell_type": "code",
   "execution_count": null,
   "metadata": {},
   "outputs": [],
   "source": [
    "#binary search arama algoritması \n",
    "def binarySearch(dizi,aranan,ilk,son):\n",
    "    ortanca=(ilk+son)//2\n",
    "    if(aranan==dizi[ortanca]):\n",
    "        return ortanca\n",
    "    elif(aranan>dizi[ortanca]):\n",
    "        return binarySearch(dizi,aranan,ortanca+1,son)\n",
    "    else:\n",
    "        return binarySearch(dizi,aranan,ilk,ortanca-1)\n",
    "\n",
    "dizi=[1,4,6,7,8,9,11,12,13,18]\n",
    "print(binarySearch(dizi,12,0,len(dizi)-1))"
   ]
  },
  {
   "cell_type": "code",
   "execution_count": null,
   "metadata": {},
   "outputs": [],
   "source": [
    "#faktoriyel hesaplama\n",
    "def faktoriyel(sayi):\n",
    "    if(sayi<=1):\n",
    "        return 1\n",
    "    else:\n",
    "        return sayi*faktoriyel(sayi-1)\n",
    "\n",
    "print(faktoriyel(5))"
   ]
  },
  {
   "cell_type": "code",
   "execution_count": null,
   "metadata": {},
   "outputs": [],
   "source": [
    "#selection sort algoritmasıyla diziyi sıralama\n",
    "def selectionSort(dizi,n):\n",
    "    if(n==1):\n",
    "        return \n",
    "    max=0\n",
    "    for i in range(n):\n",
    "        if(dizi[i]>dizi[max]):\n",
    "            max=i\n",
    "    dizi[n-1],dizi[max]=dizi[max],dizi[n-1]        \n",
    "    selectionSort(dizi,n-1)\n",
    "\n",
    "dizi=[0,15,4,34,5,8,6,9,18,78,1,3]\n",
    "print(selectionSort(dizi,len(dizi)))\n",
    "print(dizi)    \n",
    "    \n"
   ]
  },
  {
   "cell_type": "code",
   "execution_count": null,
   "metadata": {},
   "outputs": [],
   "source": [
    "isim=input(\"isminizi giriniz \")\n",
    "yas=int(input(\"yasınızı giriniz\"))\n",
    "print(f\"{isim}'li kisi {yas}'yasındadır\")"
   ]
  },
  {
   "cell_type": "code",
   "execution_count": null,
   "metadata": {},
   "outputs": [],
   "source": [
    "if(yas>0):#if else bloklarında girintilere dikkat et python girintilere göre if bloğunun içine alıp almayacağına kara veriyor\n",
    "    print(f\"{yas} yasındadır\")\n",
    "else:\n",
    "    print(\"hatalı yas girisi yapıldı\")"
   ]
  },
  {
   "cell_type": "code",
   "execution_count": null,
   "metadata": {},
   "outputs": [],
   "source": [
    "for i in range(1,10):#sınır dahil edilmez\n",
    "    print(i)\n",
    "print(\"yeni döngü\")\n",
    "for i in range(1,10,4):\n",
    "    print(i)"
   ]
  },
  {
   "cell_type": "code",
   "execution_count": null,
   "metadata": {},
   "outputs": [],
   "source": [
    "for harf in \"marmara\":\n",
    "    print(harf)"
   ]
  },
  {
   "cell_type": "code",
   "execution_count": null,
   "metadata": {},
   "outputs": [],
   "source": [
    "#asallık kontrolü için bir fonksiyon\n",
    "def asalMi(sayi):\n",
    "    kontrol=0\n",
    "    for i in range(1,sayi):\n",
    "        if sayi%i==0:\n",
    "            kontrol+=1\n",
    "    \n",
    "\n",
    "    if(kontrol>2):\n",
    "        return f\"{sayi} sayisi asal degildir\"\n",
    "    else:\n",
    "        return f\"{sayi} sayisi asaldir\"\n",
    "\n",
    "print(asalMi(19))\n",
    "print(asalMi(10))"
   ]
  },
  {
   "cell_type": "code",
   "execution_count": null,
   "metadata": {},
   "outputs": [],
   "source": [
    "#python stringlerin sağını solunu kontrol eder\n",
    "metin=\"deneme \"\n",
    "metin1=\"deneme\"\n",
    "#ikisi farklı içeriğe sahiptir\n",
    "print(metin1.strip())\n",
    "#lstrip() ve rstrip() fonksiyonları da benzer işlevlere sahiptir. ne yaptıkları isimlerinden az çok anlaşılır\n"
   ]
  },
  {
   "cell_type": "code",
   "execution_count": null,
   "metadata": {},
   "outputs": [],
   "source": [
    "#çok basit bir örnek ama ilk baktığımda hatasız gelmişti\n",
    "age=21\n",
    "message=\"Mert \"+age+\" yasında\"\n",
    "print(message)"
   ]
  },
  {
   "cell_type": "code",
   "execution_count": 9,
   "metadata": {},
   "outputs": [
    {
     "name": "stdout",
     "output_type": "stream",
     "text": [
      "21\n"
     ]
    }
   ],
   "source": [
    "#print fonksiyonunun içinde değişkenleri yazdırırken bu yazım da kullanılıyor\n",
    "print(\"%d\"%(age))"
   ]
  }
 ],
 "metadata": {
  "kernelspec": {
   "display_name": "Python 3",
   "language": "python",
   "name": "python3"
  },
  "language_info": {
   "codemirror_mode": {
    "name": "ipython",
    "version": 3
   },
   "file_extension": ".py",
   "mimetype": "text/x-python",
   "name": "python",
   "nbconvert_exporter": "python",
   "pygments_lexer": "ipython3",
   "version": "3.11.9"
  }
 },
 "nbformat": 4,
 "nbformat_minor": 2
}
