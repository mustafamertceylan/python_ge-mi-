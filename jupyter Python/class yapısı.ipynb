{
 "cells": [
  {
   "cell_type": "code",
   "execution_count": null,
   "metadata": {},
   "outputs": [],
   "source": [
    "print(\"hello world\")"
   ]
  },
  {
   "cell_type": "code",
   "execution_count": 5,
   "metadata": {},
   "outputs": [],
   "source": [
    "class Ucus():#Sınıfların genel tanımlanması bu şekilde yapılmaktadır\n",
    "    havayolu='THY'#atribute olarak veilen kısımlar\n",
    "    def __init__(self,kalkis,varis,süre):#self syntax sonucu gelen bir yazımdır\n",
    "        self.kalkis=kalkis\n",
    "        self.varis=varis\n",
    "        self.süre=süre\n",
    "    "
   ]
  },
  {
   "cell_type": "code",
   "execution_count": null,
   "metadata": {},
   "outputs": [],
   "source": [
    "ucus1=Ucus()#burada hata almamızın sebebi constructor 'a değer vermememiz aslında"
   ]
  },
  {
   "cell_type": "code",
   "execution_count": null,
   "metadata": {},
   "outputs": [],
   "source": [
    "ucus1=Ucus(\"İstanbul\",\"Samsun\",50)\n",
    "print(ucus1.havayolu)\n",
    "print(ucus1.kalkis)\n",
    "print(ucus1.varis)\n",
    "print(ucus1.süre)"
   ]
  },
  {
   "cell_type": "code",
   "execution_count": 2,
   "metadata": {},
   "outputs": [],
   "source": [
    "class Ucus():#Sınıfların genel tanımlanması bu şekilde yapılmaktadır\n",
    "    havayolu='THY'#atribute olarak veilen kısımlar\n",
    "    def __init__(self,kalkis,varis,süre):#self syntax sonucu gelen bir yazımdır\n",
    "        self.kalkis=kalkis\n",
    "        self.varis=varis\n",
    "        self.süre=süre\n",
    "    def anonsYap(self):#bu şekilde \n",
    "        return f\"{self.kalkis},{self.varis} ucağı {self.süre} kadar sürecektir...\""
   ]
  },
  {
   "cell_type": "code",
   "execution_count": null,
   "metadata": {},
   "outputs": [],
   "source": [
    "ucus1=Ucus(\"İstanbul\",\"Samsun\",50)\n",
    "print(ucus1.anonsYap())"
   ]
  },
  {
   "cell_type": "code",
   "execution_count": 10,
   "metadata": {},
   "outputs": [],
   "source": [
    "class seyehat():\n",
    "    def __init__(self,fiyat):\n",
    "        self.fiyat=fiyat\n",
    "    "
   ]
  },
  {
   "cell_type": "code",
   "execution_count": 20,
   "metadata": {},
   "outputs": [],
   "source": [
    "class Ucus(seyehat):#Sınıfların genel tanımlanması bu şekilde yapılmaktadır\n",
    "    havayolu='THY'#atribute olarak veilen kısımlar\n",
    "    def __init__(self,kalkis,varis,süre,fiyat):#self syntax sonucu gelen bir yazımdır\n",
    "        super().__init__(fiyat)#miras aldığımız sınıfın constructor'ını çağırıyoruz\n",
    "        self.kalkis=kalkis\n",
    "        self.varis=varis\n",
    "        self.süre=süre\n",
    "    def anonsYap(self):#bu şekilde \n",
    "        return f\"{self.kalkis},{self.varis} ucağı {self.süre} kadar sürecektir...\""
   ]
  },
  {
   "cell_type": "code",
   "execution_count": null,
   "metadata": {},
   "outputs": [],
   "source": [
    "ucus1=Ucus(\"adana\",\"izmir\",50,150)\n",
    "ucus1.fiyat"
   ]
  },
  {
   "cell_type": "code",
   "execution_count": 23,
   "metadata": {},
   "outputs": [],
   "source": [
    "class Student():\n",
    "    \"\"\"Instance is a student taking python\"\"\"\n",
    "    \n",
    "    def __init__(self, name, NetID, is_auditing):\n",
    "        \"\"\"Initializer: instance with name, NetID, auditing status\n",
    "        \n",
    "        name: student's full name [str]\n",
    "        NetID: student's NetID [str], 2-3 letters + 1-4 numbers\n",
    "        is_auditing: whether student is auditing the class [bool]\"\"\"\n",
    "        \n",
    "        # Tip kontrolü: Parametrelerin doğru veri tipinde olduğundan emin olunuyor\n",
    "        assert type(name) == str, \"name should be type str\"\n",
    "        assert type(NetID) == str, \"NetID should be type str\"\n",
    "        assert type(is_auditing) == bool, \"is_auditing should be type bool\"\n",
    "        \n",
    "        # Özelliklerin atanması\n",
    "        self.name = name\n",
    "        self.NetID = NetID\n",
    "        self.is_auditing = is_auditing\n"
   ]
  },
  {
   "cell_type": "code",
   "execution_count": null,
   "metadata": {},
   "outputs": [],
   "source": [
    "ogr=Student(45,\"1556\",True)\n"
   ]
  },
  {
   "cell_type": "code",
   "execution_count": null,
   "metadata": {},
   "outputs": [],
   "source": [
    "import turtle\n",
    "\n",
    "# Temel Shape sınıfı\n",
    "class Shape():\n",
    "    def __init__(self, x, y):\n",
    "        self.x = x  # x koordinatı\n",
    "        self.y = y  # y koordinatı\n",
    "\n",
    "    def draw(self):\n",
    "        # Kalemi kaldır ve belirtilen koordinata git\n",
    "        turtle.penup()\n",
    "        turtle.setx(self.x)\n",
    "        turtle.sety(self.y)\n",
    "        turtle.pendown()\n",
    "\n",
    "# Circle sınıfı, Shape sınıfından türetiliyor\n",
    "class Circle(Shape):\n",
    "    def __init__(self, x, y, radius):\n",
    "        super().__init__(x, y)  # Üst sınıftaki koordinatları al\n",
    "        self.radius = radius  # Çemberin yarıçapı\n",
    "\n",
    "    def draw(self):\n",
    "        # Shape sınıfının draw metodunu çağırarak kalemi konumlandır\n",
    "        super().draw()\n",
    "        # Çember çiz\n",
    "        turtle.circle(self.radius)\n",
    "\n",
    "# Ana program\n",
    "def main():\n",
    "    # Turtle ekranı ayarları\n",
    "    turtle.speed(1)  # Çizim hızı\n",
    "    turtle.bgcolor(\"white\")  # Arkaplan rengi\n",
    "    turtle.color(\"blue\")  # Kalem rengi\n",
    "\n",
    "    # Circle nesnesi oluştur ve çiz\n",
    "    c1 = Circle(50, 100, 30)  # x=50, y=100, radius=30\n",
    "    c1.draw()\n",
    "\n",
    "    # İkinci bir çember daha ekleyelim\n",
    "    c2 = Circle(-50, -50, 50)  # x=-50, y=-50, radius=50\n",
    "    c2.draw()\n",
    "\n",
    "    # Turtle ekranını kapatmak için tıklamayı bekle\n",
    "    turtle.done()\n",
    "\n",
    "# Programı çalıştır\n",
    "if __name__ == \"__main__\":\n",
    "    main()\n"
   ]
  },
  {
   "cell_type": "code",
   "execution_count": null,
   "metadata": {},
   "outputs": [],
   "source": []
  }
 ],
 "metadata": {
  "kernelspec": {
   "display_name": "Python 3",
   "language": "python",
   "name": "python3"
  },
  "language_info": {
   "codemirror_mode": {
    "name": "ipython",
    "version": 3
   },
   "file_extension": ".py",
   "mimetype": "text/x-python",
   "name": "python",
   "nbconvert_exporter": "python",
   "pygments_lexer": "ipython3",
   "version": "3.11.9"
  }
 },
 "nbformat": 4,
 "nbformat_minor": 2
}
