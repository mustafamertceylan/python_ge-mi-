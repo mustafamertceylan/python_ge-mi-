{
 "cells": [
  {
   "cell_type": "code",
   "execution_count": 3,
   "metadata": {},
   "outputs": [],
   "source": [
    "import tkinter as tk\n",
    "root=tk.Tk()\n",
    "root.title(\"pencere başlığı\")#açılan penceremize başlık eklememize yardımcı olur\n",
    "etiket1=tk.Label(root,text=\"etiket 1 buraya yazılır\")#pencereye etiket(label)eklememizi sağlar\n",
    "etiket1.pack()#etiketimizi programın ortasına ekler\n",
    "etiket2=tk.Label(root,text=\"yeni etiket\")\n",
    "etiket2.pack()\n",
    "\n",
    "\n",
    "\n",
    "root.mainloop()#pencereyi başlatır ve kapatana kadar sonsuz döngüye sokar\n"
   ]
  },
  {
   "cell_type": "code",
   "execution_count": 11,
   "metadata": {},
   "outputs": [],
   "source": [
    "import tkinter as tk\n",
    "from tkinter import *\n",
    "from tkinter import messagebox\n",
    "def butonKontrol():\n",
    "    messagebox.showinfo(\"başlık\",\"butona tıklanıldı\")\n",
    "\n",
    "root=tk.Tk()\n",
    "buton=tk.Button(root,text=\"tıkla\",command=butonKontrol)#burada butona bir action ekledik command= ile\n",
    "buton.pack()#butonu ortaya yerleştirdik\n",
    "root.mainloop()"
   ]
  },
  {
   "cell_type": "code",
   "execution_count": 21,
   "metadata": {},
   "outputs": [],
   "source": [
    "import tkinter as tk\n",
    "from tkinter import *\n",
    "root=tk.Tk()\n",
    "sayi=0\n",
    "def hi():\n",
    "    global sayi\n",
    "    tk.Label(root,text=sayi).pack()\n",
    "    sayi+=1\n",
    "root.title(\"pencere\")\n",
    "tk.Button(root,text=\"tıkla\",command=hi).pack()\n",
    "root.mainloop()"
   ]
  }
 ],
 "metadata": {
  "kernelspec": {
   "display_name": "Python 3",
   "language": "python",
   "name": "python3"
  },
  "language_info": {
   "codemirror_mode": {
    "name": "ipython",
    "version": 3
   },
   "file_extension": ".py",
   "mimetype": "text/x-python",
   "name": "python",
   "nbconvert_exporter": "python",
   "pygments_lexer": "ipython3",
   "version": "3.11.9"
  }
 },
 "nbformat": 4,
 "nbformat_minor": 2
}
