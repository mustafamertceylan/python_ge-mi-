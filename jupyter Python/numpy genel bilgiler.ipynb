{
 "cells": [
  {
   "cell_type": "code",
   "execution_count": 2,
   "metadata": {},
   "outputs": [
    {
     "name": "stdout",
     "output_type": "stream",
     "text": [
      "[[1, 2], [3, 4]]\n",
      "[[1 2]\n",
      " [3 4]]\n"
     ]
    }
   ],
   "source": [
    "import numpy as np#numpy aslında karmaşık hesaplamaları yapan büyük verilerin işlenmesinde bize yardımcı olan bir kütüphane olarak düşünülebilir\n",
    "dizi=[[1,2],[3,4]]\n",
    "dizi1=np.array(dizi)\n",
    "print(dizi)\n",
    "print(dizi1)\n",
    "#numpy dizilerle normal diziler arasındaki fark burada görünüyor\n",
    "#aslında daha anlaşılır daha matemaatiksel hale sokmaya yarar gibi düşünülebilir"
   ]
  },
  {
   "cell_type": "code",
   "execution_count": 4,
   "metadata": {},
   "outputs": [
    {
     "name": "stdout",
     "output_type": "stream",
     "text": [
      "<class 'list'>\n",
      "<class 'numpy.ndarray'>\n"
     ]
    }
   ],
   "source": [
    "print(type(dizi))\n",
    "print(type(dizi1))"
   ]
  },
  {
   "cell_type": "code",
   "execution_count": 7,
   "metadata": {},
   "outputs": [
    {
     "name": "stdout",
     "output_type": "stream",
     "text": [
      "2\n"
     ]
    }
   ],
   "source": [
    "print(dizi1.ndim)#.ndim numpy dizinin boyutunu döndürür"
   ]
  },
  {
   "cell_type": "code",
   "execution_count": 8,
   "metadata": {},
   "outputs": [
    {
     "name": "stdout",
     "output_type": "stream",
     "text": [
      "(2, 2)\n",
      "<class 'tuple'>\n"
     ]
    }
   ],
   "source": [
    "print(dizi1.shape)#numpy dizisinin bize kaç satır ve sütundan oluştuğunu döndürür tuple olarak\n",
    "print(type(dizi1.shape))"
   ]
  },
  {
   "cell_type": "code",
   "execution_count": 14,
   "metadata": {},
   "outputs": [
    {
     "name": "stdout",
     "output_type": "stream",
     "text": [
      "[[ 1  2  3  4  5]\n",
      " [77  9  2  1  3]\n",
      " [ 5 45  7 61  5]]\n",
      "[ 1  2  3  4  5 77  9  2  1  3  5 45  7 61  5]\n",
      "[[ 1  2  3]\n",
      " [ 4  5 77]\n",
      " [ 9  2  1]\n",
      " [ 3  5 45]\n",
      " [ 7 61  5]]\n"
     ]
    }
   ],
   "source": [
    "dizi=[1,2,3,4,5,77,9,2,1,3,5,45,7,61,5]\n",
    "dizi1=np.array(dizi)#diziyi istediğimiz şekilde yeniden boyutlandırıyo\n",
    "print(dizi1.reshape(3,5))#burada diziyi yeniden yazdırmamızın sebebi aslında orijinal diziyi değiştirmediğini göstermektir\n",
    "print(dizi1)\n",
    "print(dizi1.reshape(5,3))"
   ]
  },
  {
   "cell_type": "code",
   "execution_count": 16,
   "metadata": {},
   "outputs": [
    {
     "name": "stdout",
     "output_type": "stream",
     "text": [
      "[ 0  5 10 15 20 25 30 35 40 45 50 55 60 65 70 75 80 85 90 95]\n",
      "[[ 0  5 10 15]\n",
      " [20 25 30 35]\n",
      " [40 45 50 55]\n",
      " [60 65 70 75]\n",
      " [80 85 90 95]]\n"
     ]
    }
   ],
   "source": [
    "dizi1=np.arange(0,100,5)#burada aslında bize bir numpy dizi döndürür\n",
    "print(dizi1)\n",
    "print(dizi1.reshape(5,4))"
   ]
  },
  {
   "cell_type": "code",
   "execution_count": 19,
   "metadata": {},
   "outputs": [
    {
     "name": "stdout",
     "output_type": "stream",
     "text": [
      "[[ 0  5 10 15]\n",
      " [20 25 30 35]\n",
      " [40 45 50 55]]\n"
     ]
    }
   ],
   "source": [
    "dizi1=dizi1.reshape(5,4)\n",
    "ilksatir=dizi1[0:3]#dizinin istediğimiz satırını elde ediyoruz\n",
    "print(ilksatir)"
   ]
  },
  {
   "cell_type": "code",
   "execution_count": 20,
   "metadata": {},
   "outputs": [
    {
     "name": "stdout",
     "output_type": "stream",
     "text": [
      "[[ 0  5 10]\n",
      " [20 25 30]\n",
      " [40 45 50]\n",
      " [60 65 70]\n",
      " [80 85 90]]\n"
     ]
    }
   ],
   "source": [
    "dizi1=dizi1.reshape(5,4)\n",
    "ilksutun=dizi1[:,0:3]#dizinin tüm satırlarını alıp istediğimiz kadar sütununu alıyoruz\n",
    "print(ilksutun)"
   ]
  },
  {
   "cell_type": "code",
   "execution_count": 21,
   "metadata": {},
   "outputs": [
    {
     "name": "stdout",
     "output_type": "stream",
     "text": [
      "[[80 85 90 95]\n",
      " [60 65 70 75]\n",
      " [40 45 50 55]\n",
      " [20 25 30 35]\n",
      " [ 0  5 10 15]]\n"
     ]
    }
   ],
   "source": [
    "print(dizi1[::-1])#diziyi ters çevirdik"
   ]
  }
 ],
 "metadata": {
  "kernelspec": {
   "display_name": "Python 3",
   "language": "python",
   "name": "python3"
  },
  "language_info": {
   "codemirror_mode": {
    "name": "ipython",
    "version": 3
   },
   "file_extension": ".py",
   "mimetype": "text/x-python",
   "name": "python",
   "nbconvert_exporter": "python",
   "pygments_lexer": "ipython3",
   "version": "3.11.9"
  }
 },
 "nbformat": 4,
 "nbformat_minor": 2
}
