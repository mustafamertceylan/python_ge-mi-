{
 "cells": [
  {
   "cell_type": "code",
   "execution_count": 6,
   "metadata": {},
   "outputs": [],
   "source": [
    "dizi=[\"istanbul\",\"samsun\",\"rize\",\"giresun\",\"erzurum\",53,25,55,28]"
   ]
  },
  {
   "cell_type": "code",
   "execution_count": 9,
   "metadata": {},
   "outputs": [
    {
     "data": {
      "text/plain": [
       "9"
      ]
     },
     "execution_count": 9,
     "metadata": {},
     "output_type": "execute_result"
    }
   ],
   "source": [
    "len(dizi)#dizinin boyutunu geridöndürür"
   ]
  },
  {
   "cell_type": "code",
   "execution_count": 10,
   "metadata": {},
   "outputs": [
    {
     "name": "stdout",
     "output_type": "stream",
     "text": [
      "['istanbul', 'samsun', 'rize', 'giresun', 'erzurum', 53, 25, 55, 28, 'Marmara üniverstesi']\n"
     ]
    }
   ],
   "source": [
    "dizi.append(\"Marmara üniverstesi\")#aynı anda sadece bir tane eleman eklenebilir\n",
    "print(dizi)"
   ]
  },
  {
   "cell_type": "code",
   "execution_count": 12,
   "metadata": {},
   "outputs": [
    {
     "name": "stdout",
     "output_type": "stream",
     "text": [
      "['istanbul', 'izmir', 'izmir', 'samsun', 'rize', 'giresun', 'erzurum', 53, 25, 55, 28, 'Marmara üniverstesi']\n"
     ]
    }
   ],
   "source": [
    "dizi.insert(1,\"izmir\")#istenilen indise eleman eklemesi yapar\n",
    "print(dizi)"
   ]
  },
  {
   "cell_type": "code",
   "execution_count": 15,
   "metadata": {},
   "outputs": [
    {
     "name": "stdout",
     "output_type": "stream",
     "text": [
      "['istanbul', 'izmir', 'izmir', 'samsun', 'rize', 'giresun', 'erzurum', 53, 25, 55, 28, 'Marmara üniverstesi', 12, 12, 12]\n",
      "['istanbul', 'izmir', 'izmir', 'samsun', 'rize', 'giresun', 'erzurum', 53, 25, 55, 28, 'Marmara üniverstesi', 12, 12, 12, 12]\n"
     ]
    }
   ],
   "source": [
    "liste1=[12]\n",
    "#dizi.extend(liste1) listeleri birbirine eklerken kullanılır\n",
    "print(dizi)\n",
    "dizi=dizi+liste1\n",
    "print(dizi)"
   ]
  },
  {
   "cell_type": "code",
   "execution_count": null,
   "metadata": {},
   "outputs": [],
   "source": [
    "print(dizi.remove(\"izmir\"))#eleman ismiyle silme işlemi yapılır\n",
    "print(dizi)\n",
    "print(dizi.pop(3))#indisle silme işlemi yapılır"
   ]
  },
  {
   "cell_type": "code",
   "execution_count": 21,
   "metadata": {},
   "outputs": [
    {
     "name": "stdout",
     "output_type": "stream",
     "text": [
      "0\n"
     ]
    }
   ],
   "source": [
    "print(dizi.index(\"samsun\"))"
   ]
  },
  {
   "cell_type": "code",
   "execution_count": 22,
   "metadata": {},
   "outputs": [
    {
     "ename": "TypeError",
     "evalue": "'<' not supported between instances of 'int' and 'str'",
     "output_type": "error",
     "traceback": [
      "\u001b[1;31m---------------------------------------------------------------------------\u001b[0m",
      "\u001b[1;31mTypeError\u001b[0m                                 Traceback (most recent call last)",
      "Cell \u001b[1;32mIn[22], line 1\u001b[0m\n\u001b[1;32m----> 1\u001b[0m \u001b[43mdizi\u001b[49m\u001b[38;5;241;43m.\u001b[39;49m\u001b[43msort\u001b[49m\u001b[43m(\u001b[49m\u001b[43m)\u001b[49m\n\u001b[0;32m      2\u001b[0m \u001b[38;5;28mprint\u001b[39m(dizi)\n",
      "\u001b[1;31mTypeError\u001b[0m: '<' not supported between instances of 'int' and 'str'"
     ]
    }
   ],
   "source": [
    "dizi.sort()\n",
    "print(dizi)#normalde sıralama yapar ancak dizimizde integer ve string ifadeler beraber olduğu için olmadı"
   ]
  },
  {
   "cell_type": "code",
   "execution_count": 23,
   "metadata": {},
   "outputs": [
    {
     "name": "stdout",
     "output_type": "stream",
     "text": [
      "[12, 12, 12, 12, 'Marmara üniverstesi', 28, 55, 25, 53, 'erzurum', 'giresun', 'rize', 'samsun']\n"
     ]
    }
   ],
   "source": [
    "dizi.reverse()#diziyi ters çevirir\n",
    "print(dizi)"
   ]
  },
  {
   "cell_type": "code",
   "execution_count": 24,
   "metadata": {},
   "outputs": [
    {
     "name": "stdout",
     "output_type": "stream",
     "text": [
      "4\n"
     ]
    }
   ],
   "source": [
    "print(dizi.count(12))#girilen elemanın liste içerisinde kaç defa olduğunu döndürür"
   ]
  },
  {
   "cell_type": "code",
   "execution_count": 25,
   "metadata": {},
   "outputs": [
    {
     "data": {
      "text/plain": [
       "['samsun',\n",
       " 'rize',\n",
       " 'giresun',\n",
       " 'erzurum',\n",
       " 53,\n",
       " 25,\n",
       " 55,\n",
       " 28,\n",
       " 'Marmara üniverstesi',\n",
       " 12,\n",
       " 12,\n",
       " 12,\n",
       " 12]"
      ]
     },
     "execution_count": 25,
     "metadata": {},
     "output_type": "execute_result"
    }
   ],
   "source": [
    "dizi[::-1]"
   ]
  },
  {
   "cell_type": "code",
   "execution_count": 26,
   "metadata": {},
   "outputs": [
    {
     "data": {
      "text/plain": [
       "[12, 12, 'Marmara üniverstesi', 55, 53, 'giresun', 'samsun']"
      ]
     },
     "execution_count": 26,
     "metadata": {},
     "output_type": "execute_result"
    }
   ],
   "source": [
    "dizi[::2]"
   ]
  },
  {
   "cell_type": "code",
   "execution_count": 28,
   "metadata": {},
   "outputs": [
    {
     "name": "stdout",
     "output_type": "stream",
     "text": [
      "[12, 12, 12, 'Tekirdağ', 'İstanbul', 28, 55, 25, 53, 'erzurum', 'giresun', 'rize', 'samsun']\n"
     ]
    }
   ],
   "source": [
    "dizi[3:5]=[\"Tekirdağ\",\"İstanbul\"]\n",
    "print(dizi)"
   ]
  },
  {
   "cell_type": "code",
   "execution_count": 35,
   "metadata": {},
   "outputs": [
    {
     "name": "stdout",
     "output_type": "stream",
     "text": [
      "['giresun', 'Tekirdağ', 12]\n"
     ]
    }
   ],
   "source": [
    "import random\n",
    "print(random.sample(dizi,3))#dizi içerisinden random 3 adet değer döndürdü"
   ]
  },
  {
   "cell_type": "code",
   "execution_count": 36,
   "metadata": {},
   "outputs": [
    {
     "data": {
      "text/plain": [
       "55"
      ]
     },
     "execution_count": 36,
     "metadata": {},
     "output_type": "execute_result"
    }
   ],
   "source": [
    "random.choice(dizi)#dizi içerisinden rastgele bir eleman seçer"
   ]
  }
 ],
 "metadata": {
  "kernelspec": {
   "display_name": "Python 3",
   "language": "python",
   "name": "python3"
  },
  "language_info": {
   "codemirror_mode": {
    "name": "ipython",
    "version": 3
   },
   "file_extension": ".py",
   "mimetype": "text/x-python",
   "name": "python",
   "nbconvert_exporter": "python",
   "pygments_lexer": "ipython3",
   "version": "3.11.9"
  }
 },
 "nbformat": 4,
 "nbformat_minor": 2
}
