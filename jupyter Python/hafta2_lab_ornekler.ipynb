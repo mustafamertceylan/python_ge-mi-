{
 "cells": [
  {
   "cell_type": "code",
   "execution_count": null,
   "metadata": {},
   "outputs": [],
   "source": [
    "def asal_mi(sayi):\n",
    "    count=0\n",
    "    for i in range(1,sayi):\n",
    "        if(sayi%i==0):\n",
    "            count+=1\n",
    "    if(count>2):\n",
    "        return f\"Girilen sayi asal değildir ->{sayi}\"\n",
    "    else:\n",
    "        return f\"Girilen sayi asaldır -> {sayi}\"\n",
    "    \n",
    "sayi=int(input(\"Asallığını kontrol etmek istediğiniz sayıyı giriniz\"))\n",
    "print(asal_mi(sayi))\n"
   ]
  },
  {
   "cell_type": "code",
   "execution_count": null,
   "metadata": {},
   "outputs": [],
   "source": [
    "#kenar uzunluklarına göre üçgen türünü bulmak\n",
    "dizi=[0]*3\n",
    "for i in range(3):\n",
    "    dizi[i]=int(input(f\"{i+1}. kenarın uzunluğunu giriniz\"))\n",
    "\n",
    "if(dizi[0]==dizi[1] and dizi[1]==dizi[2] and dizi[0]==dizi[2]):\n",
    "    print(\"Es kenar\")\n",
    "elif(dizi[0]==dizi[1] or dizi[0]==dizi[2] or dizi[1]==dizi[2]):\n",
    "    print(\"İkizkenar üçgen\")\n",
    "else:\n",
    "    print(\"Çeşitkenar bir üçgen\")"
   ]
  },
  {
   "cell_type": "code",
   "execution_count": null,
   "metadata": {},
   "outputs": [],
   "source": [
    "def kok_bul(a,b,c):\n",
    "    # a,b,c katsayıları 2.dereceden denklemin katsayılarını temsil etmektedir\n",
    "    delta=b**2-4*a*c\n",
    "    if(delta<0):\n",
    "        print(\"Reel kökü yok\")\n",
    "    elif(delta==0):\n",
    "        print(\"Denklemin reel ve çakışık kökleri mevct\",(-b-delta**(1/2))/2*a)\n",
    "    else:\n",
    "        print(\"Denklemin kökleri \",(-b-delta**(1/2))/2*a,\" ve \" ,(-b+delta**(1/2))/2*a)\n",
    "\n",
    "print(\"Denlemin köklerini sırayla giriniz \")\n",
    "sayi1=int(input())\n",
    "sayi2=int(input())\n",
    "sayi3=int(input())\n",
    "\n",
    "kok_bul(sayi1,sayi2,sayi3)\n"
   ]
  },
  {
   "cell_type": "code",
   "execution_count": 14,
   "metadata": {},
   "outputs": [
    {
     "data": {
      "text/plain": [
       "0"
      ]
     },
     "execution_count": 14,
     "metadata": {},
     "output_type": "execute_result"
    }
   ],
   "source": [
    "def aralik_kontrol(sayi,sayi2):\n",
    "    #girilen aralıktaki sayıların asal olup olamdığını kontrol eden fonksiyon\n",
    "    for i in range(sayi1,sayi2):\n",
    "        print(asal_mi(sayi1,sayi2))\n",
    "    return 0\n",
    "\n",
    "sayi1=int(input(\"Başlangıç sayısını giriniz\"))\n",
    "sayi1=int(input(\"Bitiş sayısını giriniz\"))\n",
    "aralik_kontrol(sayi1,sayi2)\n",
    "\n"
   ]
  },
  {
   "cell_type": "code",
   "execution_count": 1,
   "metadata": {},
   "outputs": [
    {
     "name": "stdout",
     "output_type": "stream",
     "text": [
      "1 değerine karşılık gelen fonksiyon sonucu -4\n"
     ]
    }
   ],
   "source": [
    "def fonsiyon(sayi):\n",
    "    return f\"{sayi} değerine karşılık gelen fonksiyon sonucu {sayi**3-5*sayi} olarak bulunur\"\n",
    "\n",
    "\n",
    "sayi=int(input(\"x**3-5x fonksiyonunun içine geçirelecek değeri girin\"))\n",
    "print(fonsiyon(sayi))"
   ]
  },
  {
   "cell_type": "code",
   "execution_count": 7,
   "metadata": {},
   "outputs": [
    {
     "name": "stdout",
     "output_type": "stream",
     "text": [
      "321\n"
     ]
    }
   ],
   "source": [
    "#girilen sayıyı tersten yazdıran fonksiyon\n",
    "def tersten_yaz(sayi):\n",
    "    yeni_sayi=0\n",
    "    while(sayi>0):\n",
    "        yeni_sayi=yeni_sayi*10+sayi%10\n",
    "        sayi=sayi//10\n",
    "    return yeni_sayi\n",
    "\n",
    "sayi=int(input(\"Tersten yazdırmak istediğiniz sayıyı giriniz :)\"))\n",
    "print(tersten_yaz(sayi))"
   ]
  },
  {
   "cell_type": "code",
   "execution_count": 13,
   "metadata": {},
   "outputs": [
    {
     "name": "stdout",
     "output_type": "stream",
     "text": [
      "1000\n"
     ]
    }
   ],
   "source": [
    "#girilen sayıyı binary sayı yapan algoritma \n",
    "def binary_cevir(sayi):\n",
    "    if sayi == 0:\n",
    "        return \"\"\n",
    "    else:\n",
    "        return binary_cevir(sayi // 2) + str(sayi % 2)\n",
    "sayi=int(input(\"Binary'e çevirmek istediğiniz sayıyı giriniz\"))\n",
    "print(binary_cevir(sayi))"
   ]
  },
  {
   "cell_type": "code",
   "execution_count": null,
   "metadata": {},
   "outputs": [],
   "source": [
    "#mükemmel sayıları bulmaya yarayan bir fonksiyon tanımladık\n",
    "def mukemmel_mi(sayi):\n",
    "    toplam=0\n",
    "    for i in range(1,sayi//2+1):\n",
    "        if(sayi%i==0):\n",
    "            toplam+=i\n",
    "    if(toplam==sayi):\n",
    "        return True\n",
    "    else:\n",
    "        return False\n",
    "    \n",
    "print(mukemmel_mi(6))\n",
    "for i in range(100,1000):\n",
    "    print(mukemmel_mi(i))\n"
   ]
  },
  {
   "cell_type": "code",
   "execution_count": 22,
   "metadata": {},
   "outputs": [
    {
     "name": "stdout",
     "output_type": "stream",
     "text": [
      "4 numaralı en büyük sayı 8\n"
     ]
    }
   ],
   "source": [
    "#Kullanıcı tarafından girilen 10 tane tam sayının en büyüğünü bulan ve indeks numarasını ekrana bastıran kod\n",
    "en büyüğünün sırasını ekrana yazan python kodunu yazınız.\n",
    "dizi=[0]*10\n",
    "index=0\n",
    "maks=0\n",
    "for i in range(10):\n",
    "    dizi[i]=int(input(f\"{i+1}. elemanı giriniz\"))\n",
    "    if(dizi[i]>maks):\n",
    "        maks=dizi[i]\n",
    "        index=i\n",
    "print(f\"{index} numaralı en büyük sayı {maks}\")\n"
   ]
  },
  {
   "cell_type": "code",
   "execution_count": 23,
   "metadata": {},
   "outputs": [
    {
     "name": "stdout",
     "output_type": "stream",
     "text": [
      "doğru tahmin 30\n"
     ]
    }
   ],
   "source": [
    "#1 ile 100 arasında sayı tahmin uygulaması\n",
    "import random\n",
    "sayi=random.randint(1,100)\n",
    "tahmin=int(input(\"lütfen tahminizi giriniz\"))\n",
    "while(tahmin!=sayi):\n",
    "    if(tahmin>sayi):\n",
    "        tahmin=int(input(\"Daha küçük bir sayı giriniz\"))\n",
    "    else:\n",
    "        tahmin=int(input(\"Daha yükksek bir sayı giriniz\"))\n",
    "\n",
    "print(f\"doğru tahmin {sayi}\")\n"
   ]
  }
 ],
 "metadata": {
  "kernelspec": {
   "display_name": "Python 3",
   "language": "python",
   "name": "python3"
  },
  "language_info": {
   "codemirror_mode": {
    "name": "ipython",
    "version": 3
   },
   "file_extension": ".py",
   "mimetype": "text/x-python",
   "name": "python",
   "nbconvert_exporter": "python",
   "pygments_lexer": "ipython3",
   "version": "3.11.9"
  }
 },
 "nbformat": 4,
 "nbformat_minor": 2
}
