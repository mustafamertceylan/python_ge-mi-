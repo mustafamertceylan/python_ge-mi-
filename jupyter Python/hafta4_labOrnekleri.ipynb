{
 "cells": [
  {
   "cell_type": "code",
   "execution_count": 40,
   "metadata": {},
   "outputs": [
    {
     "name": "stdout",
     "output_type": "stream",
     "text": [
      "[22, 50, 32, 3, 38, 36, 47, 25, 38, 37] \n",
      " [8, 25, 30, 20, 4, 15, 2, 9, 48, 17]\n",
      "[22, 50, 32, 3, 38, 36, 47, 25, 38, 37, 8, 25, 30, 20, 4, 15, 2, 9, 48, 17]\n",
      "[22, 50, 32, 3, 38, 36, 47, 25, 38, 37, 8, 30, 20, 4, 15, 2, 9, 48, 17]\n",
      "[2, 3, 4, 8, 9, 15, 17, 20, 22, 25, 30, 32, 36, 37, 38, 38, 47, 48, 50]\n"
     ]
    }
   ],
   "source": [
    "#soru 1 : rastgele olusturulan dizileri birlestirip ortak elemanları çıkardıktan sonra diziyi sıralama \n",
    "import random\n",
    "dizi1=[0]*10\n",
    "dizi2=[0]*10\n",
    "for i in range(10):\n",
    "    dizi1[i]=random.randint(1,50)\n",
    "    dizi2[i]=random.randint(1,50)\n",
    "print(dizi1,\"\\n\",dizi2)\n",
    "dizi1.extend(dizi2)\n",
    "print(dizi1)\n",
    "for i in range(10):\n",
    "    j = 0\n",
    "    while j < len(dizi1) - 10:  \n",
    "        if dizi1[i] == dizi1[10 + j]:\n",
    "            dizi1.pop(10 + j)  \n",
    "        else:\n",
    "            j += 1  \n",
    "\n",
    "print(dizi1)\n",
    "temp=0\n",
    "for i in range(len(dizi1)):\n",
    "    for j in range(i):\n",
    "        if(dizi1[i]<dizi1[j]):\n",
    "            temp=dizi1[i]\n",
    "            dizi1[i]=dizi1[j]\n",
    "            dizi1[j]=temp\n",
    "\n",
    "print(dizi1)"
   ]
  },
  {
   "cell_type": "code",
   "execution_count": 41,
   "metadata": {},
   "outputs": [
    {
     "name": "stdout",
     "output_type": "stream",
     "text": [
      "[8, 25, 30, 20, 4, 15, 2, 9, 48, 17]\n",
      "8 sayısı 1 kere geçmektedir\n",
      "25 sayısı 1 kere geçmektedir\n",
      "30 sayısı 1 kere geçmektedir\n",
      "20 sayısı 1 kere geçmektedir\n",
      "4 sayısı 1 kere geçmektedir\n",
      "15 sayısı 1 kere geçmektedir\n",
      "2 sayısı 1 kere geçmektedir\n",
      "9 sayısı 1 kere geçmektedir\n",
      "48 sayısı 1 kere geçmektedir\n",
      "17 sayısı 1 kere geçmektedir\n",
      "[8, 25, 30, 20, 4, 15, 2, 9, 48, 17]\n"
     ]
    }
   ],
   "source": [
    "dizi=dizi2\n",
    "bos_dizi=[]\n",
    "count=0\n",
    "print(dizi)\n",
    "for i in dizi:\n",
    "    if i not in  bos_dizi:\n",
    "        bos_dizi.append(i)\n",
    "        for j in range(len(dizi)):\n",
    "            if(i==dizi[j]):\n",
    "                count+=1\n",
    "        print(f\"{i} sayısı {count} kere geçmektedir\")\n",
    "        count=0\n",
    "print(bos_dizi)\n",
    "\n",
    "\n"
   ]
  },
  {
   "cell_type": "code",
   "execution_count": 45,
   "metadata": {},
   "outputs": [
    {
     "name": "stdout",
     "output_type": "stream",
     "text": [
      "['Ahmet', 6, 'yaşında', 'zeynep', 4, 'yaşında', 'esra', 2, 'yaşında', 'ayşe', 1, 'yaşında']\n"
     ]
    }
   ],
   "source": [
    "yazi = [\"Ahmet\", \"altı\", \"yaşında\", \"zeynep\", \"dört\", \"yaşında\", \"esra\", \"iki\", \"yaşında\", \"ayşe\", \"bir\", \"yaşında\"]\n",
    "\n",
    "rakamlar = {\"bir\": 1, \"iki\": 2, \"üç\": 3, \"dört\": 4, \"beş\": 5, \"altı\": 6, \"yedi\": 7, \"sekiz\": 8, \"dokuz\": 9}\n",
    "\n",
    "for i in range(len(yazi)):\n",
    "    if yazi[i] in rakamlar:\n",
    "        yazi[i] = rakamlar[yazi[i]]  \n",
    "\n",
    "print(yazi)\n",
    "\n",
    "\n"
   ]
  },
  {
   "cell_type": "code",
   "execution_count": 52,
   "metadata": {},
   "outputs": [
    {
     "name": "stdout",
     "output_type": "stream",
     "text": [
      "En uzun artan ardışık alt dizi: [1, 2, 3, 7]\n"
     ]
    }
   ],
   "source": [
    "def en_uzun_artan_alt_dizi(sayilar):\n",
    "    if not sayilar:\n",
    "        return []\n",
    "\n",
    "    en_uzun = []\n",
    "    mevcut = [sayilar[0]]\n",
    "\n",
    "    for i in range(1, len(sayilar)):\n",
    "        if sayilar[i] > sayilar[i - 1]: \n",
    "            mevcut.append(sayilar[i])\n",
    "        else:  \n",
    "            if len(mevcut) > len(en_uzun):  \n",
    "                en_uzun = mevcut\n",
    "            mevcut = [sayilar[i]]  \n",
    "\n",
    "  \n",
    "    if len(mevcut) > len(en_uzun):\n",
    "        en_uzun = mevcut\n",
    "\n",
    "    return en_uzun\n",
    "\n",
    "\n",
    "# Test\n",
    "sayilar = [1, 3, 1, 2, 3,7, 5, 6, 5, 6, 7, 8]\n",
    "print(\"En uzun artan ardışık alt dizi:\", en_uzun_artan_alt_dizi(sayilar))\n"
   ]
  }
 ],
 "metadata": {
  "kernelspec": {
   "display_name": "Python 3",
   "language": "python",
   "name": "python3"
  },
  "language_info": {
   "codemirror_mode": {
    "name": "ipython",
    "version": 3
   },
   "file_extension": ".py",
   "mimetype": "text/x-python",
   "name": "python",
   "nbconvert_exporter": "python",
   "pygments_lexer": "ipython3",
   "version": "3.11.9"
  }
 },
 "nbformat": 4,
 "nbformat_minor": 2
}
